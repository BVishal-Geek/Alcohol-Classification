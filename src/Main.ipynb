{
 "cells": [
  {
   "cell_type": "markdown",
   "source": [
    "# Library Imports"
   ],
   "metadata": {
    "collapsed": false
   },
   "id": "9af98d4b282b59c7"
  },
  {
   "cell_type": "code",
   "outputs": [],
   "source": [
    "import seaborn as sns\n",
    "import numpy as np \n",
    "import matplotlib.pyplot as plt\n",
    "import pandas as pd \n",
    "from sklearn.model_selection import train_test_split\n",
    "from sklearn.preprocessing import StandardScaler"
   ],
   "metadata": {
    "collapsed": false,
    "ExecuteTime": {
     "end_time": "2024-05-05T06:16:36.054222Z",
     "start_time": "2024-05-05T06:16:36.052215Z"
    }
   },
   "id": "521b3a3f6887841b",
   "execution_count": 3
  },
  {
   "cell_type": "markdown",
   "source": [
    "# Reading Data"
   ],
   "metadata": {
    "collapsed": false
   },
   "id": "941ee9183555bd1d"
  },
  {
   "cell_type": "code",
   "outputs": [],
   "source": [
    "df = pd.read_csv(\"/Users/vishal/Desktop/Way to New World/University/01_All_Semesters/02_Semester/02_Machine Learning P/Final Term Project /Dataset/smoking_driking_dataset_Ver01.csv\")"
   ],
   "metadata": {
    "collapsed": false,
    "ExecuteTime": {
     "end_time": "2024-05-05T06:19:10.080833Z",
     "start_time": "2024-05-05T06:19:09.048209Z"
    }
   },
   "id": "89979d949295f63e",
   "execution_count": 6
  },
  {
   "cell_type": "markdown",
   "source": [
    "# Checking Info & Description"
   ],
   "metadata": {
    "collapsed": false
   },
   "id": "c30300cee1e243ac"
  },
  {
   "cell_type": "code",
   "outputs": [
    {
     "name": "stdout",
     "output_type": "stream",
     "text": [
      "<class 'pandas.core.frame.DataFrame'>\n",
      "RangeIndex: 991346 entries, 0 to 991345\n",
      "Data columns (total 24 columns):\n",
      " #   Column            Non-Null Count   Dtype  \n",
      "---  ------            --------------   -----  \n",
      " 0   sex               991346 non-null  object \n",
      " 1   age               991346 non-null  int64  \n",
      " 2   height            991346 non-null  int64  \n",
      " 3   weight            991346 non-null  int64  \n",
      " 4   waistline         991346 non-null  float64\n",
      " 5   sight_left        991346 non-null  float64\n",
      " 6   sight_right       991346 non-null  float64\n",
      " 7   hear_left         991346 non-null  float64\n",
      " 8   hear_right        991346 non-null  float64\n",
      " 9   SBP               991346 non-null  float64\n",
      " 10  DBP               991346 non-null  float64\n",
      " 11  BLDS              991346 non-null  float64\n",
      " 12  tot_chole         991346 non-null  float64\n",
      " 13  HDL_chole         991346 non-null  float64\n",
      " 14  LDL_chole         991346 non-null  float64\n",
      " 15  triglyceride      991346 non-null  float64\n",
      " 16  hemoglobin        991346 non-null  float64\n",
      " 17  urine_protein     991346 non-null  float64\n",
      " 18  serum_creatinine  991346 non-null  float64\n",
      " 19  SGOT_AST          991346 non-null  float64\n",
      " 20  SGOT_ALT          991346 non-null  float64\n",
      " 21  gamma_GTP         991346 non-null  float64\n",
      " 22  SMK_stat_type_cd  991346 non-null  float64\n",
      " 23  DRK_YN            991346 non-null  object \n",
      "dtypes: float64(19), int64(3), object(2)\n",
      "memory usage: 181.5+ MB\n"
     ]
    }
   ],
   "source": [
    "df.info()"
   ],
   "metadata": {
    "collapsed": false,
    "ExecuteTime": {
     "end_time": "2024-05-05T06:19:35.429547Z",
     "start_time": "2024-05-05T06:19:35.292131Z"
    }
   },
   "id": "d4f9f0a55e8cef7e",
   "execution_count": 7
  },
  {
   "cell_type": "markdown",
   "source": [
    "#### Column Categorization: \n",
    "`Numerical Columns`: 21\n",
    "`Categorical`: 2"
   ],
   "metadata": {
    "collapsed": false
   },
   "id": "f590395629a51ca8"
  },
  {
   "cell_type": "code",
   "outputs": [
    {
     "data": {
      "text/plain": "                 age         height         weight      waistline  \\\ncount  991346.000000  991346.000000  991346.000000  991346.000000   \nmean       47.614491     162.240625      63.284050      81.233358   \nstd        14.181339       9.282957      12.514241      11.850323   \nmin        20.000000     130.000000      25.000000       8.000000   \n25%        35.000000     155.000000      55.000000      74.100000   \n50%        45.000000     160.000000      60.000000      81.000000   \n75%        60.000000     170.000000      70.000000      87.800000   \nmax        85.000000     190.000000     140.000000     999.000000   \n\n          sight_left    sight_right      hear_left     hear_right  \\\ncount  991346.000000  991346.000000  991346.000000  991346.000000   \nmean        0.980834       0.978429       1.031495       1.030476   \nstd         0.605949       0.604774       0.174650       0.171892   \nmin         0.100000       0.100000       1.000000       1.000000   \n25%         0.700000       0.700000       1.000000       1.000000   \n50%         1.000000       1.000000       1.000000       1.000000   \n75%         1.200000       1.200000       1.000000       1.000000   \nmax         9.900000       9.900000       2.000000       2.000000   \n\n                 SBP            DBP  ...      HDL_chole      LDL_chole  \\\ncount  991346.000000  991346.000000  ...  991346.000000  991346.000000   \nmean      122.432498      76.052627  ...      56.936800     113.037692   \nstd        14.543148       9.889365  ...      17.238479      35.842812   \nmin        67.000000      32.000000  ...       1.000000       1.000000   \n25%       112.000000      70.000000  ...      46.000000      89.000000   \n50%       120.000000      76.000000  ...      55.000000     111.000000   \n75%       131.000000      82.000000  ...      66.000000     135.000000   \nmax       273.000000     185.000000  ...    8110.000000    5119.000000   \n\n        triglyceride     hemoglobin  urine_protein  serum_creatinine  \\\ncount  991346.000000  991346.000000  991346.000000     991346.000000   \nmean      132.141751      14.229824       1.094224          0.860467   \nstd       102.196985       1.584929       0.437724          0.480530   \nmin         1.000000       1.000000       1.000000          0.100000   \n25%        73.000000      13.200000       1.000000          0.700000   \n50%       106.000000      14.300000       1.000000          0.800000   \n75%       159.000000      15.400000       1.000000          1.000000   \nmax      9490.000000      25.000000       6.000000         98.000000   \n\n            SGOT_AST       SGOT_ALT      gamma_GTP  SMK_stat_type_cd  \ncount  991346.000000  991346.000000  991346.000000     991346.000000  \nmean       25.989308      25.755051      37.136347          1.608122  \nstd        23.493386      26.308599      50.424153          0.818507  \nmin         1.000000       1.000000       1.000000          1.000000  \n25%        19.000000      15.000000      16.000000          1.000000  \n50%        23.000000      20.000000      23.000000          1.000000  \n75%        28.000000      29.000000      39.000000          2.000000  \nmax      9999.000000    7210.000000     999.000000          3.000000  \n\n[8 rows x 22 columns]",
      "text/html": "<div>\n<style scoped>\n    .dataframe tbody tr th:only-of-type {\n        vertical-align: middle;\n    }\n\n    .dataframe tbody tr th {\n        vertical-align: top;\n    }\n\n    .dataframe thead th {\n        text-align: right;\n    }\n</style>\n<table border=\"1\" class=\"dataframe\">\n  <thead>\n    <tr style=\"text-align: right;\">\n      <th></th>\n      <th>age</th>\n      <th>height</th>\n      <th>weight</th>\n      <th>waistline</th>\n      <th>sight_left</th>\n      <th>sight_right</th>\n      <th>hear_left</th>\n      <th>hear_right</th>\n      <th>SBP</th>\n      <th>DBP</th>\n      <th>...</th>\n      <th>HDL_chole</th>\n      <th>LDL_chole</th>\n      <th>triglyceride</th>\n      <th>hemoglobin</th>\n      <th>urine_protein</th>\n      <th>serum_creatinine</th>\n      <th>SGOT_AST</th>\n      <th>SGOT_ALT</th>\n      <th>gamma_GTP</th>\n      <th>SMK_stat_type_cd</th>\n    </tr>\n  </thead>\n  <tbody>\n    <tr>\n      <th>count</th>\n      <td>991346.000000</td>\n      <td>991346.000000</td>\n      <td>991346.000000</td>\n      <td>991346.000000</td>\n      <td>991346.000000</td>\n      <td>991346.000000</td>\n      <td>991346.000000</td>\n      <td>991346.000000</td>\n      <td>991346.000000</td>\n      <td>991346.000000</td>\n      <td>...</td>\n      <td>991346.000000</td>\n      <td>991346.000000</td>\n      <td>991346.000000</td>\n      <td>991346.000000</td>\n      <td>991346.000000</td>\n      <td>991346.000000</td>\n      <td>991346.000000</td>\n      <td>991346.000000</td>\n      <td>991346.000000</td>\n      <td>991346.000000</td>\n    </tr>\n    <tr>\n      <th>mean</th>\n      <td>47.614491</td>\n      <td>162.240625</td>\n      <td>63.284050</td>\n      <td>81.233358</td>\n      <td>0.980834</td>\n      <td>0.978429</td>\n      <td>1.031495</td>\n      <td>1.030476</td>\n      <td>122.432498</td>\n      <td>76.052627</td>\n      <td>...</td>\n      <td>56.936800</td>\n      <td>113.037692</td>\n      <td>132.141751</td>\n      <td>14.229824</td>\n      <td>1.094224</td>\n      <td>0.860467</td>\n      <td>25.989308</td>\n      <td>25.755051</td>\n      <td>37.136347</td>\n      <td>1.608122</td>\n    </tr>\n    <tr>\n      <th>std</th>\n      <td>14.181339</td>\n      <td>9.282957</td>\n      <td>12.514241</td>\n      <td>11.850323</td>\n      <td>0.605949</td>\n      <td>0.604774</td>\n      <td>0.174650</td>\n      <td>0.171892</td>\n      <td>14.543148</td>\n      <td>9.889365</td>\n      <td>...</td>\n      <td>17.238479</td>\n      <td>35.842812</td>\n      <td>102.196985</td>\n      <td>1.584929</td>\n      <td>0.437724</td>\n      <td>0.480530</td>\n      <td>23.493386</td>\n      <td>26.308599</td>\n      <td>50.424153</td>\n      <td>0.818507</td>\n    </tr>\n    <tr>\n      <th>min</th>\n      <td>20.000000</td>\n      <td>130.000000</td>\n      <td>25.000000</td>\n      <td>8.000000</td>\n      <td>0.100000</td>\n      <td>0.100000</td>\n      <td>1.000000</td>\n      <td>1.000000</td>\n      <td>67.000000</td>\n      <td>32.000000</td>\n      <td>...</td>\n      <td>1.000000</td>\n      <td>1.000000</td>\n      <td>1.000000</td>\n      <td>1.000000</td>\n      <td>1.000000</td>\n      <td>0.100000</td>\n      <td>1.000000</td>\n      <td>1.000000</td>\n      <td>1.000000</td>\n      <td>1.000000</td>\n    </tr>\n    <tr>\n      <th>25%</th>\n      <td>35.000000</td>\n      <td>155.000000</td>\n      <td>55.000000</td>\n      <td>74.100000</td>\n      <td>0.700000</td>\n      <td>0.700000</td>\n      <td>1.000000</td>\n      <td>1.000000</td>\n      <td>112.000000</td>\n      <td>70.000000</td>\n      <td>...</td>\n      <td>46.000000</td>\n      <td>89.000000</td>\n      <td>73.000000</td>\n      <td>13.200000</td>\n      <td>1.000000</td>\n      <td>0.700000</td>\n      <td>19.000000</td>\n      <td>15.000000</td>\n      <td>16.000000</td>\n      <td>1.000000</td>\n    </tr>\n    <tr>\n      <th>50%</th>\n      <td>45.000000</td>\n      <td>160.000000</td>\n      <td>60.000000</td>\n      <td>81.000000</td>\n      <td>1.000000</td>\n      <td>1.000000</td>\n      <td>1.000000</td>\n      <td>1.000000</td>\n      <td>120.000000</td>\n      <td>76.000000</td>\n      <td>...</td>\n      <td>55.000000</td>\n      <td>111.000000</td>\n      <td>106.000000</td>\n      <td>14.300000</td>\n      <td>1.000000</td>\n      <td>0.800000</td>\n      <td>23.000000</td>\n      <td>20.000000</td>\n      <td>23.000000</td>\n      <td>1.000000</td>\n    </tr>\n    <tr>\n      <th>75%</th>\n      <td>60.000000</td>\n      <td>170.000000</td>\n      <td>70.000000</td>\n      <td>87.800000</td>\n      <td>1.200000</td>\n      <td>1.200000</td>\n      <td>1.000000</td>\n      <td>1.000000</td>\n      <td>131.000000</td>\n      <td>82.000000</td>\n      <td>...</td>\n      <td>66.000000</td>\n      <td>135.000000</td>\n      <td>159.000000</td>\n      <td>15.400000</td>\n      <td>1.000000</td>\n      <td>1.000000</td>\n      <td>28.000000</td>\n      <td>29.000000</td>\n      <td>39.000000</td>\n      <td>2.000000</td>\n    </tr>\n    <tr>\n      <th>max</th>\n      <td>85.000000</td>\n      <td>190.000000</td>\n      <td>140.000000</td>\n      <td>999.000000</td>\n      <td>9.900000</td>\n      <td>9.900000</td>\n      <td>2.000000</td>\n      <td>2.000000</td>\n      <td>273.000000</td>\n      <td>185.000000</td>\n      <td>...</td>\n      <td>8110.000000</td>\n      <td>5119.000000</td>\n      <td>9490.000000</td>\n      <td>25.000000</td>\n      <td>6.000000</td>\n      <td>98.000000</td>\n      <td>9999.000000</td>\n      <td>7210.000000</td>\n      <td>999.000000</td>\n      <td>3.000000</td>\n    </tr>\n  </tbody>\n</table>\n<p>8 rows × 22 columns</p>\n</div>"
     },
     "execution_count": 8,
     "metadata": {},
     "output_type": "execute_result"
    }
   ],
   "source": [
    "df.describe()"
   ],
   "metadata": {
    "collapsed": false,
    "ExecuteTime": {
     "end_time": "2024-05-05T06:20:05.831948Z",
     "start_time": "2024-05-05T06:20:05.149488Z"
    }
   },
   "id": "b860608eebcc143",
   "execution_count": 8
  },
  {
   "cell_type": "markdown",
   "source": [
    "#### According to the `mean` and `median` of all the columns. There is no skewness in the data. "
   ],
   "metadata": {
    "collapsed": false
   },
   "id": "2796d5caa55511b9"
  },
  {
   "cell_type": "markdown",
   "source": [
    "# Checking for Null Values"
   ],
   "metadata": {
    "collapsed": false
   },
   "id": "35b2a7ee20ecd457"
  },
  {
   "cell_type": "code",
   "outputs": [
    {
     "data": {
      "text/plain": "sex                 0.0\nage                 0.0\nheight              0.0\nweight              0.0\nwaistline           0.0\nsight_left          0.0\nsight_right         0.0\nhear_left           0.0\nhear_right          0.0\nSBP                 0.0\nDBP                 0.0\nBLDS                0.0\ntot_chole           0.0\nHDL_chole           0.0\nLDL_chole           0.0\ntriglyceride        0.0\nhemoglobin          0.0\nurine_protein       0.0\nserum_creatinine    0.0\nSGOT_AST            0.0\nSGOT_ALT            0.0\ngamma_GTP           0.0\nSMK_stat_type_cd    0.0\nDRK_YN              0.0\ndtype: float64"
     },
     "execution_count": 10,
     "metadata": {},
     "output_type": "execute_result"
    }
   ],
   "source": [
    "df.isna().sum()/len(df) * 100"
   ],
   "metadata": {
    "collapsed": false,
    "ExecuteTime": {
     "end_time": "2024-05-05T06:26:15.900547Z",
     "start_time": "2024-05-05T06:26:15.785982Z"
    }
   },
   "id": "389b9c31ebc1578d",
   "execution_count": 10
  },
  {
   "cell_type": "code",
   "outputs": [],
   "source": [],
   "metadata": {
    "collapsed": false
   },
   "id": "441bfc58143fec76"
  }
 ],
 "metadata": {
  "kernelspec": {
   "display_name": "Python 3",
   "language": "python",
   "name": "python3"
  },
  "language_info": {
   "codemirror_mode": {
    "name": "ipython",
    "version": 2
   },
   "file_extension": ".py",
   "mimetype": "text/x-python",
   "name": "python",
   "nbconvert_exporter": "python",
   "pygments_lexer": "ipython2",
   "version": "2.7.6"
  }
 },
 "nbformat": 4,
 "nbformat_minor": 5
}
